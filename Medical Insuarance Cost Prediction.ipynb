{
 "cells": [
  {
   "cell_type": "code",
   "execution_count": null,
   "id": "adac483e-e7d5-49ce-b241-998d38f9f836",
   "metadata": {},
   "outputs": [],
   "source": [
    "import numpy as np\n",
    "import pandas as pd \n",
    "import matplotlib.pyplot as plt\n",
    "import seaborn as sns\n",
    "from sklearn.model_selection import train_test_split\n",
    "from sklearn.linear_model import LinearRegression\n",
    "from sklearn import metrics"
   ]
  },
  {
   "cell_type": "code",
   "execution_count": null,
   "id": "760d5cb2-f7d9-4a92-9a8b-228fbc8d6968",
   "metadata": {},
   "outputs": [],
   "source": [
    "df = pd.read_csv(\"C:\\\\Users\\\\USER\\\\Downloads\\\\archive\\\\insurance.csv\")"
   ]
  },
  {
   "cell_type": "code",
   "execution_count": null,
   "id": "2d0e52e1-6d2d-41fb-a79a-a0fa2c57eb25",
   "metadata": {},
   "outputs": [],
   "source": [
    "df.head()"
   ]
  },
  {
   "cell_type": "code",
   "execution_count": null,
   "id": "930dd0ff-75c7-44cf-b59c-9031282cf9b6",
   "metadata": {},
   "outputs": [],
   "source": [
    "sns.set()\n",
    "plt.figure(figsize=(6, 6))\n",
    "sns.displot(df['age'])\n",
    "plt.title(\"Age Distribution\")\n",
    "plt.show()"
   ]
  },
  {
   "cell_type": "code",
   "execution_count": null,
   "id": "4ea10052-e33b-4bbf-ba8c-8e9f655110d6",
   "metadata": {},
   "outputs": [],
   "source": [
    "df['region'].value_counts()"
   ]
  },
  {
   "cell_type": "code",
   "execution_count": null,
   "id": "74e8d7e6-90a2-4dbe-a290-d4a8b644b70b",
   "metadata": {},
   "outputs": [],
   "source": [
    "df.replace({'sex': {'male':0, 'female':1}}, inplace=True)"
   ]
  },
  {
   "cell_type": "code",
   "execution_count": null,
   "id": "455c9dc1-a5d3-4fae-9a87-152d13fb4750",
   "metadata": {},
   "outputs": [],
   "source": [
    "df.replace({'smoker':{'yes':0, 'no':1}}, inplace=True)"
   ]
  },
  {
   "cell_type": "code",
   "execution_count": null,
   "id": "53df7b64-5215-41cf-9697-fa095850b680",
   "metadata": {},
   "outputs": [],
   "source": [
    "df.replace({'region':{'southeast':0, 'southwest':1, 'northeast':2, 'northwest':3}}, inplace=True)"
   ]
  },
  {
   "cell_type": "code",
   "execution_count": null,
   "id": "75d4499a-a803-4b46-879b-42d4aabbb4ea",
   "metadata": {},
   "outputs": [],
   "source": [
    "x = df.drop(columns=\"charges\", axis =1)\n",
    "y = df['charges']"
   ]
  },
  {
   "cell_type": "code",
   "execution_count": null,
   "id": "7c95ba7b-d1c4-4918-9a7d-166cb27d45e9",
   "metadata": {},
   "outputs": [],
   "source": [
    "x_train, x_test, y_train, y_test = train_test_split(x, y, test_size=.2)"
   ]
  },
  {
   "cell_type": "code",
   "execution_count": null,
   "id": "8a53d365-a473-4d32-beb0-341b0b6a0c9b",
   "metadata": {},
   "outputs": [],
   "source": [
    "reg = LinearRegression()\n",
    "reg.fit(x_train, y_train)\n",
    "training_data_prediction = reg.predict(x_train)\n",
    "\n",
    "r2_train = metrics.r2_score(y_train, training_data_prediction)\n",
    "r2_train"
   ]
  },
  {
   "cell_type": "code",
   "execution_count": null,
   "id": "2e5f3120-fad0-4904-9eff-54bc82918c27",
   "metadata": {},
   "outputs": [],
   "source": [
    "test_data_prediction = reg.predict(x_test)\n",
    "metrics.r2_score(y_test, test_data_prediction)"
   ]
  },
  {
   "cell_type": "code",
   "execution_count": null,
   "id": "a7b1c5d9-6614-491b-99b2-faeab1b0443d",
   "metadata": {},
   "outputs": [],
   "source": [
    "sample_input_data = (30, 1, 22.7, 0, 1, 1)"
   ]
  },
  {
   "cell_type": "code",
   "execution_count": null,
   "id": "fd90df89-8387-467a-893c-aea846be8afa",
   "metadata": {},
   "outputs": [],
   "source": [
    "input_data = np.asarray(sample_input_data)\n",
    "input_data_reshaped = input_data.reshape(1, -1)\n",
    "\n",
    "prediction = reg.predict(input_data_reshaped)\n",
    "\n",
    "print(\"The Insurance cost is \",prediction)"
   ]
  }
 ],
 "metadata": {
  "kernelspec": {
   "display_name": "Python 3 (ipykernel)",
   "language": "python",
   "name": "python3"
  },
  "language_info": {
   "codemirror_mode": {
    "name": "ipython",
    "version": 3
   },
   "file_extension": ".py",
   "mimetype": "text/x-python",
   "name": "python",
   "nbconvert_exporter": "python",
   "pygments_lexer": "ipython3",
   "version": "3.11.5"
  }
 },
 "nbformat": 4,
 "nbformat_minor": 5
}
